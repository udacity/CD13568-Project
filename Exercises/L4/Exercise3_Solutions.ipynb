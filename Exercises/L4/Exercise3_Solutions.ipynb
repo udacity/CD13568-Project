{
 "cells": [
  {
   "cell_type": "markdown",
   "id": "4cdabcbb-45a7-4e78-96d4-d4571d011433",
   "metadata": {
    "tags": []
   },
   "source": [
    "# Exercise 3: Try-Except (Answers)\n",
    "\n",
    "The cornerstone of exception handling in Python when writing functions and scripts is the `try-except` block. Picture it as a safety net under a high-wire act at the theme park. We wrap the potentially risky code (like a daring stunt) in a `try` block, then use an `except` block to catch any exceptions that might occur and handle them gracefully, just like catching a performer who misses a step.\n",
    "\n",
    "Exception handling ensures your code can manage unexpected inputs or behavior without crashing:\n",
    "- The `try` block is used to define a first pass given an input of arguments, and this looks for potential errors that could be raised\n",
    "- The `except` block is used to then catch and handle specific errors if they are found\n",
    "\n",
    "Let’s practice using `try-except` to handle errors in Python below!"
   ]
  },
  {
   "cell_type": "markdown",
   "id": "4a669661-8bae-4b76-b06b-60fd3d8ea02d",
   "metadata": {},
   "source": [
    "### Part 1: Serving Popcorn with Exception Handling\n",
    "In this part, you’ll practice using try-except blocks to handle errors gracefully. By wrapping your code in a try block, you can catch specific exceptions using the except block, preventing the program from crashing.\n",
    "\n",
    "In the cell below:\n",
    " - [ ] Define a function named `serve_popcorn` that:\n",
    "     - [ ] Accepts one parameter: `snack`\n",
    "     - [ ] Uses a `try` block to:\n",
    "         - Raise a ValueError with the message `\"We only serve popcorn!\"` if the snack is not `\"popcorn\"`\n",
    "         - Otherwise, return `\"Serving popcorn...\"`\n",
    "    - [ ] Uses an `except` block to catch the `ValueError` and return the error message"
   ]
  },
  {
   "cell_type": "code",
   "execution_count": null,
   "id": "721133b8-24f6-4938-890d-f510b77ccaf4",
   "metadata": {},
   "outputs": [],
   "source": [
    "# Your code here\n",
    "\n",
    "# Step 1: Define the function\n",
    "\n",
    "# Step 2: Call the function with a value and store the result\n",
    "\n",
    "# Step 3: Print the result"
   ]
  },
  {
   "cell_type": "code",
   "execution_count": 3,
   "id": "8bb7adcf-2ee9-4b61-a714-d0225fefe198",
   "metadata": {
    "tags": []
   },
   "outputs": [
    {
     "name": "stdout",
     "output_type": "stream",
     "text": [
      "Error: We only serve popcorn!\n"
     ]
    }
   ],
   "source": [
    "# Step 1: Define the function\n",
    "def serve_popcorn(snack):\n",
    "    try:\n",
    "        if snack != \"popcorn\":\n",
    "            raise ValueError(\"We only serve popcorn!\")\n",
    "        return f\"Serving {snack}...\"\n",
    "    except ValueError as e:\n",
    "        return f\"Error: {e}\"\n",
    "\n",
    "# Step 2: Call the function with a value and store the result\n",
    "result = serve_popcorn(\"candy\")\n",
    "\n",
    "# Step 3: Print the result\n",
    "print(result)\n",
    "\n",
    "# Expected output:\n",
    "# Error: We only serve popcorn!"
   ]
  },
  {
   "cell_type": "markdown",
   "id": "342623c0-aa9d-4f25-b054-7e98581546d2",
   "metadata": {},
   "source": [
    "### Part 2: Testing the Function\n",
    "Now that you’ve created the `serve_popcorn` function, let’s test it with various inputs. Testing is incredibly important to ensure that our functions and scripts run exactly the way we expect them too.\n",
    "\n",
    "We will want to cast a wide net of potential errors to make sure that, like Murphy's Law, anything that can go wrong, will go wrong (and be handled gracefully with `try-except` blocks).\n",
    "\n",
    "In the cell below:\n",
    " - [ ] Define another function named `test_popcorn` that:\n",
    "     - [ ] Initializes a list called `snacks` with: \"popcorn\", \"candy\", and \"pretzels\"\n",
    "     - [ ] Iterates through each snack in the list\n",
    "     - [ ] Calls `serve_popcorn` for each snack\n",
    "     - [ ] Prints the results using: `Input: <snack>, Output: <result>`\n",
    " - [ ] Call `test_popcorn` to see how the `serve_popcorn` function handles different inputs.\n"
   ]
  },
  {
   "cell_type": "code",
   "execution_count": null,
   "id": "6d781a35-032a-4f5a-a5a5-83a3d59a8603",
   "metadata": {},
   "outputs": [],
   "source": [
    "# Your code here\n",
    "\n",
    "# Part 1: Define the serve_popcorn function\n",
    "\n",
    "# Part 2: Define the test_popcorn function and call it"
   ]
  },
  {
   "cell_type": "code",
   "execution_count": 1,
   "id": "ef66b77b-47bb-47f3-8424-28e72361beaa",
   "metadata": {},
   "outputs": [
    {
     "name": "stdout",
     "output_type": "stream",
     "text": [
      "Input: popcorn, Output: Serving popcorn...\n",
      "Input: candy, Output: Error: We only serve popcorn!\n",
      "Input: pretzels, Output: Error: We only serve popcorn!\n"
     ]
    }
   ],
   "source": [
    "# Part 1: Define the serve_popcorn function\n",
    "def serve_popcorn(snack):\n",
    "    try:\n",
    "        if snack != \"popcorn\":\n",
    "            raise ValueError(\"We only serve popcorn!\")\n",
    "        return f\"Serving {snack}...\"\n",
    "    except ValueError as e:\n",
    "        return f\"Error: {e}\"\n",
    "\n",
    "# Part 2: Define the test_popcorn function\n",
    "def test_popcorn():\n",
    "    snacks = [\"popcorn\", \"candy\", \"pretzels\"]\n",
    "    for snack in snacks:\n",
    "        result = serve_popcorn(snack)\n",
    "        print(f\"Input: {snack}, Output: {result}\") \n",
    "\n",
    "# Call the test_popcorn function\n",
    "test_popcorn()\n",
    "\n",
    "# Expected output:\n",
    "# Input: popcorn, Output: Serving popcorn...\n",
    "# Input: candy, Output: Error: We only serve popcorn!\n",
    "# Input: pretzels, Output: Error: We only serve popcorn!"
   ]
  },
  {
   "cell_type": "markdown",
   "id": "828a9a5c-5e60-4206-a617-5c3b6fdf8ffb",
   "metadata": {},
   "source": [
    "### Part 3: Handling Multiple Exceptions\n",
    "Now, you’ll practice handling multiple types of exceptions in a single function by adding additional `except` blocks.\n",
    "\n",
    "In the cell below:\n",
    " - [ ] Define a function named `serve_snack` that:\n",
    "     - Accepts two parameters: \n",
    "         - `snack`\n",
    "         - `quantity`\n",
    "     - Uses a `try` block to:\n",
    "         - Raise a `ValueError` if `quantity` is less than `0`\n",
    "         - Raise a `TypeError` if `snack` is not `\"popcorn\"`\n",
    "         - Otherwise, return `\"Serving <quantity> portions of <snack>.\"`\n",
    "     - Adds an `except` block for `ValueError` that returns the message `\"Quantity can't be negative!\"`\n",
    "     - Adds an except block for `TypeError` that returns the message `\"Unknown snack type!\"`\n",
    " - [ ] Test the function with the following inputs and print the results:\n",
    "     - `serve_snack(\"popcorn\", 5)`\n",
    "     - `serve_snack(\"candy\", 2)`\n",
    "     - `serve_snack(\"popcorn\", -1)`"
   ]
  },
  {
   "cell_type": "code",
   "execution_count": null,
   "id": "f1d19441-139d-4091-846a-b350c095280b",
   "metadata": {},
   "outputs": [],
   "source": [
    "# Your code here\n",
    "\n",
    "# Part 1: Define the serve_popcorn function\n",
    "\n",
    "# Part 2: Define the test_popcorn function and call it\n",
    "\n",
    "# Part 3: Define the serve_snack function and test it\n"
   ]
  },
  {
   "cell_type": "code",
   "execution_count": 5,
   "id": "a26595c5-ac82-417d-900b-3fee28cfe921",
   "metadata": {},
   "outputs": [
    {
     "name": "stdout",
     "output_type": "stream",
     "text": [
      "Input: popcorn, Output: Serving popcorn...\n",
      "Input: candy, Output: Error: We only serve popcorn!\n",
      "Input: pretzels, Output: Error: We only serve popcorn!\n",
      "Serving 5 portions of popcorn.\n",
      "Type error: Unknown snack type!\n",
      "Value error: Quantity can't be negative!\n"
     ]
    }
   ],
   "source": [
    "# Part 1: Define the serve_popcorn function\n",
    "def serve_popcorn(snack):\n",
    "    try:\n",
    "        if snack != \"popcorn\":\n",
    "            raise ValueError(\"We only serve popcorn!\")\n",
    "        return f\"Serving {snack}...\"\n",
    "    except ValueError as e:\n",
    "        return f\"Error: {e}\"\n",
    "\n",
    "# Part 2: Define the test_popcorn function\n",
    "def test_popcorn():\n",
    "    snacks = [\"popcorn\", \"candy\", \"pretzels\"]\n",
    "    for snack in snacks:\n",
    "        result = serve_popcorn(snack)\n",
    "        print(f\"Input: {snack}, Output: {result}\")\n",
    "\n",
    "test_popcorn()\n",
    "\n",
    "# Part 3: Define the serve_snack function\n",
    "def serve_snack(snack, quantity):\n",
    "    try:\n",
    "        if quantity < 0:\n",
    "            raise ValueError(\"Quantity can't be negative!\")\n",
    "        if snack != \"popcorn\":\n",
    "            raise TypeError(\"Unknown snack type!\")\n",
    "        return f\"Serving {quantity} portions of {snack}.\"\n",
    "    except ValueError as ve:\n",
    "        return f\"Value error: {ve}\"\n",
    "    except TypeError as te:\n",
    "        return f\"Type error: {te}\"\n",
    "\n",
    "# Test the function\n",
    "print(serve_snack(\"popcorn\", 5))  \n",
    "print(serve_snack(\"candy\", 2))   \n",
    "print(serve_snack(\"popcorn\", -1)) \n",
    "\n",
    "# Expected outputs:\n",
    "# Input: popcorn, Output: Serving popcorn...\n",
    "# Input: candy, Output: Error: We only serve popcorn!\n",
    "# Input: pretzels, Output: Error: We only serve popcorn!\n",
    "# Serving 5 portions of popcorn.\n",
    "# Type error: Unknown snack type!\n",
    "# Value error: Quantity can't be negative!"
   ]
  },
  {
   "cell_type": "markdown",
   "id": "2d5d545d-1a62-4bea-8b79-446097a95f78",
   "metadata": {},
   "source": [
    "### Part 4: Propagating Exceptions to Higher Functions\n",
    "Sometimes, one function needs to handle an exception raised by another. This is called exception propagation. \n",
    "\n",
    "In this final part of the exercise, you’ll write interconnected functions that raise and handle exceptions.\n",
    "\n",
    "In the cell below:\n",
    " - [ ] Define a function named: `check_quantity` that:\n",
    "     - Accepts one parameter: `quantity`\n",
    "     - Raises a `ValueError` if quantity is less than `0`\n",
    " - [ ] Define a function named: `purchase_snack` that:\n",
    "     - Accepts two parameters: `snack` and `quantity`\n",
    "     - Uses a `try` block to call `check_quantity(quantity)`\n",
    "     - Returns `\"Purchase successful for <quantity> portions of <snack>.\"` if no error occurs\n",
    "     - Catches the `ValueError` and returns the error message `\"Purchase failed: <error_message>\"`\n",
    " - [ ] Test the function with the following inputs and print the results:\n",
    "     - `purchase_snack(\"popcorn\", 5)`\n",
    "     - `purchase_snack(\"candy\", -3)`\n",
    "     - `purchase_snack(\"pretzels\", -1)`"
   ]
  },
  {
   "cell_type": "code",
   "execution_count": null,
   "id": "10cdcebe-123f-471b-b37e-75fdac47fc3f",
   "metadata": {},
   "outputs": [],
   "source": [
    "# Your code here\n",
    "\n",
    "# Part 1: Define the serve_popcorn function\n",
    "\n",
    "# Part 2: Define the test_popcorn function and call it\n",
    "\n",
    "# Part 3: Define the serve_snack function and test it\n",
    "\n",
    "# Part 4: Define the check_quantity and purchase_snack functions and test them\n"
   ]
  },
  {
   "cell_type": "code",
   "execution_count": 7,
   "id": "3c808f72-307a-47dc-901d-dead41ee6ffe",
   "metadata": {
    "tags": []
   },
   "outputs": [
    {
     "name": "stdout",
     "output_type": "stream",
     "text": [
      "Input: popcorn, Output: Serving popcorn...\n",
      "Input: candy, Output: Error: We only serve popcorn!\n",
      "Input: pretzels, Output: Error: We only serve popcorn!\n",
      "Serving 5 portions of popcorn.\n",
      "Type error: Unknown snack type!\n",
      "Value error: Quantity can't be negative!\n",
      "Purchase successful for 5 portions of popcorn.\n",
      "Purchase failed: Quantity cannot be negative.\n",
      "Purchase failed: Quantity cannot be negative.\n"
     ]
    }
   ],
   "source": [
    "# Part 1: Define the serve_popcorn function\n",
    "def serve_popcorn(snack):\n",
    "    try:\n",
    "        if snack != \"popcorn\":\n",
    "            raise ValueError(\"We only serve popcorn!\")\n",
    "        return f\"Serving {snack}...\"\n",
    "    except ValueError as e:\n",
    "        return f\"Error: {e}\"\n",
    "\n",
    "# Part 2: Define the test_popcorn function and call it\n",
    "def test_popcorn():\n",
    "    snacks = [\"popcorn\", \"candy\", \"pretzels\"]\n",
    "    for snack in snacks:\n",
    "        result = serve_popcorn(snack)\n",
    "        print(f\"Input: {snack}, Output: {result}\")\n",
    "\n",
    "test_popcorn()\n",
    "\n",
    "# Part 3: Define the serve_snack function and test it\n",
    "def serve_snack(snack, quantity):\n",
    "    try:\n",
    "        if quantity < 0:\n",
    "            raise ValueError(\"Quantity can't be negative!\")\n",
    "        if snack != \"popcorn\":\n",
    "            raise TypeError(\"Unknown snack type!\")\n",
    "        return f\"Serving {quantity} portions of {snack}.\"\n",
    "    except ValueError as ve:\n",
    "        return f\"Value error: {ve}\"\n",
    "    except TypeError as te:\n",
    "        return f\"Type error: {te}\"\n",
    "\n",
    "print(serve_snack(\"popcorn\", 5))    \n",
    "print(serve_snack(\"candy\", 2))     \n",
    "print(serve_snack(\"popcorn\", -1))  \n",
    "\n",
    "# Part 4: Define the check_quantity and purchase_snack functions and test them\n",
    "def check_quantity(quantity):\n",
    "    if quantity < 0:\n",
    "        raise ValueError(\"Quantity cannot be negative.\")\n",
    "\n",
    "def purchase_snack(snack, quantity):\n",
    "    try:\n",
    "        check_quantity(quantity)\n",
    "        return f\"Purchase successful for {quantity} portions of {snack}.\"\n",
    "    except ValueError as e:\n",
    "        return f\"Purchase failed: {e}\"\n",
    "\n",
    "# Test the functions\n",
    "print(purchase_snack(\"popcorn\", 5))     \n",
    "print(purchase_snack(\"candy\", -3))      \n",
    "print(purchase_snack(\"pretzels\", -1))   \n",
    "\n",
    "\n",
    "# Expected outputs:\n",
    "# Input: popcorn, Output: Serving popcorn...\n",
    "# Input: candy, Output: Error: We only serve popcorn!\n",
    "# Input: pretzels, Output: Error: We only serve popcorn!\n",
    "# Serving 5 portions of popcorn.\n",
    "# Type error: Unknown snack type!\n",
    "# Value error: Quantity can't be negative!\n",
    "# Purchase successful for 5 portions of popcorn.\n",
    "# Purchase failed: Quantity cannot be negative.\n",
    "# Purchase failed: Quantity cannot be negative."
   ]
  }
 ],
 "metadata": {
  "kernelspec": {
   "display_name": "default:Python",
   "language": "python",
   "name": "conda-env-default-py"
  },
  "language_info": {
   "codemirror_mode": {
    "name": "ipython",
    "version": 3
   },
   "file_extension": ".py",
   "mimetype": "text/x-python",
   "name": "python",
   "nbconvert_exporter": "python",
   "pygments_lexer": "ipython3",
   "version": "3.9.19"
  }
 },
 "nbformat": 4,
 "nbformat_minor": 5
}
