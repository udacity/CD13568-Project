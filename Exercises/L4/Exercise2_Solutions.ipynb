{
 "cells": [
  {
   "cell_type": "markdown",
   "id": "4cdabcbb-45a7-4e78-96d4-d4571d011433",
   "metadata": {
    "tags": []
   },
   "source": [
    "# Exercise 2: Return Keyword & Returning Results (Answers)\n",
    "\n",
    "This exercise focuses on understanding the `return` keyword and how to use it effectively in your Python functions. By understanding this concept inside and out, you'll learn how to pass values back from a function for further use and ensure your code is dynamic and reusable.\n",
    "\n",
    "Functions are all about inputs and outputs, so think about `return` as what the function will \"send out\" or \"send back\" after running some code. You'll see how this works in the following exercise components and as you begin to write more and more Python code.\n",
    "\n",
    "Let's go see the `return` keyword in action!"
   ]
  },
  {
   "cell_type": "markdown",
   "id": "4a669661-8bae-4b76-b06b-60fd3d8ea02d",
   "metadata": {},
   "source": [
    "### Part 1: Returning Simple Values\n",
    "Let’s start off first with the basics of the `return` keyword. In this part, you’ll write a function that performs simple operations and returns the results.\n",
    "\n",
    "In the cell below:\n",
    " - [ ] Define a function named `add` that:\n",
    "     - Accepts two parameters: `a` and `b`\n",
    "     - Returns their sum\n",
    " - [ ] Call the function with the values `5` and `10`, and store the result in a variable named `result`\n",
    " - [ ] Print `result` to confirm the sum is correct"
   ]
  },
  {
   "cell_type": "code",
   "execution_count": null,
   "id": "721133b8-24f6-4938-890d-f510b77ccaf4",
   "metadata": {},
   "outputs": [],
   "source": [
    "# Your code here\n",
    "\n",
    "# Step 1: Define the function\n",
    "\n",
    "# Step 2: Call the function with values and store the result\n",
    "\n",
    "# Step 3: Print the result"
   ]
  },
  {
   "cell_type": "code",
   "execution_count": 1,
   "id": "8bb7adcf-2ee9-4b61-a714-d0225fefe198",
   "metadata": {
    "tags": []
   },
   "outputs": [
    {
     "name": "stdout",
     "output_type": "stream",
     "text": [
      "The sum is: 15\n"
     ]
    }
   ],
   "source": [
    "# Step 1: Define the function\n",
    "def add(a, b):\n",
    "    return a + b\n",
    "\n",
    "# Step 2: Call the function with values and store the result\n",
    "result = add(5, 10)\n",
    "\n",
    "# Step 3: Print the result\n",
    "print(f\"The sum is: {result}\")\n",
    "\n",
    "# Expected output:\n",
    "# The sum is: 15"
   ]
  },
  {
   "cell_type": "markdown",
   "id": "342623c0-aa9d-4f25-b054-7e98581546d2",
   "metadata": {},
   "source": [
    "### Part 2: Returning Strings\n",
    "Let’s continue using the `return` keyword. Here, you'll work with string inputs and outputs.\n",
    "\n",
    "Let’s write a function that returns a personalized greeting message.\n",
    "\n",
    "In the cell below:\n",
    " - [ ] Define a function named `say_greeting` that:\n",
    "     - Accepts two parameters: \n",
    "         - `greeting` (e.g., `\"Hello\"`)\n",
    "         - `name` (e.g., `\"Python Coder\"`)\n",
    "     - Returns a combined string in the format: `\"<greeting>, <name>!\"`\n",
    " - [ ] Call the function with `greeting=\"Hello\"` and `name=\"Alice\"`\n",
    " - [ ] Store the result in a variable named `personalized_greeting`\n",
    " - [ ] Print `personalized_greeting` to see the output\n"
   ]
  },
  {
   "cell_type": "code",
   "execution_count": null,
   "id": "6d781a35-032a-4f5a-a5a5-83a3d59a8603",
   "metadata": {},
   "outputs": [],
   "source": [
    "# Your code here\n",
    "\n",
    "# Step 1: Define the function\n",
    "\n",
    "# Step 2: Call the function with string arguments\n",
    "\n",
    "# Step 3: Print the result"
   ]
  },
  {
   "cell_type": "code",
   "execution_count": 5,
   "id": "ef66b77b-47bb-47f3-8424-28e72361beaa",
   "metadata": {},
   "outputs": [
    {
     "name": "stdout",
     "output_type": "stream",
     "text": [
      "Hello, Alice!\n"
     ]
    }
   ],
   "source": [
    "# Step 1: Define the function\n",
    "def say_greeting(greeting, name):\n",
    "    return f\"{greeting}, {name}!\"\n",
    "\n",
    "# Step 2: Call the function with string arguments\n",
    "personalized_greeting = say_greeting(\"Hello\", \"Alice\")\n",
    "\n",
    "# Step 3: Print the result\n",
    "print(personalized_greeting)\n",
    "\n",
    "# Expected output:\n",
    "# Hello, Alice!"
   ]
  },
  {
   "cell_type": "markdown",
   "id": "828a9a5c-5e60-4206-a617-5c3b6fdf8ffb",
   "metadata": {},
   "source": [
    "### Part 3: Handling Input Errors\n",
    "Here, you’ll practice how incorrect inputs can lead to errors and how to manage them effectively. We all write code with the best of intentions, but sometimes errors or bugs will pop up. Sometimes, it might not even be our code that's the problem. It could really be the inputs that are wrong or are incorrect.\n",
    "\n",
    "A real-world example could involve writing a function to process payment information, such as transactions. The function might expect certain parameters, like card info, purchaser, and location, but if any of this data is missing or incorrectly formatted, the function would raise an error. Using `try-except` blocks helps you handle these scenarios by catching the errors and providing appropriate feedback.\n",
    "\n",
    "Let’s experiment with adding different types of inputs.\n",
    "\n",
    "In the cell below:\n",
    " - [ ] Reuse the `add` function you wrote in Part 1 and include that in the cell below\n",
    " - [ ] Write a new function named `safe_add` that:\n",
    "     - Accepts two parameters, a and b\n",
    "     - Calls the add function inside a try-except block\n",
    "     - Returns the result if successful, or an error message if a TypeError occurs\n",
    " - [ ] Create a list of tuples named `inputs`, with each tuple representing the arguments to be passed into `safe_add`. Include these inputs:\n",
    "     - (5, \"Python\") \n",
    "     - (3, 5.2)\n",
    "     - (2, 5)\n",
    " - [ ] Write a for loop to iterate over the inputs list:\n",
    "     - For each tuple, unpack its values into `safe_add`\n",
    "         - Hint: think: `something, somethingElse in tuple...`\n",
    "     - Print the result in a formatted string, e.g., `safe_add(5, \"Python\") = Error: ...`"
   ]
  },
  {
   "cell_type": "code",
   "execution_count": null,
   "id": "f1d19441-139d-4091-846a-b350c095280b",
   "metadata": {},
   "outputs": [],
   "source": [
    "# Your code here\n",
    "\n",
    "# Step 1: Reuse the add function\n",
    "\n",
    "# Step 2: Write the safe_add function with a try-except block\n",
    "\n",
    "# Step 3: Create a list of inputs as tuples\n",
    "\n",
    "# Step 4: Use a for loop to iterate through the inputs and call safe_add"
   ]
  },
  {
   "cell_type": "code",
   "execution_count": 4,
   "id": "a26595c5-ac82-417d-900b-3fee28cfe921",
   "metadata": {},
   "outputs": [
    {
     "name": "stdout",
     "output_type": "stream",
     "text": [
      "safe_add(5, Python) = Error: Invalid input types for addition - unsupported operand type(s) for +: 'int' and 'str'\n",
      "safe_add(3, 5.2) = 8.2\n",
      "safe_add(2, 5) = 7\n"
     ]
    }
   ],
   "source": [
    "# Step 1: Reuse the add function\n",
    "def add(a, b):\n",
    "    return a + b\n",
    "\n",
    "# Step 2: Write the safe_add function with a try-except block\n",
    "def safe_add(a, b):\n",
    "    try:\n",
    "        return add(a, b)\n",
    "    except TypeError as e:\n",
    "        return f\"Error: Invalid input types for addition - {e}\"\n",
    "\n",
    "# Step 3: Create a list of inputs as tuples\n",
    "inputs = [\n",
    "    (5, \"Python\"),   # Invalid: int + str\n",
    "    (3, 5.2),        # Valid: int + float\n",
    "    (2, 5)           # Valid: int + int\n",
    "]\n",
    "\n",
    "# Step 4: Use a for loop to iterate through the inputs and call safe_add\n",
    "for a, b in inputs:\n",
    "    result = safe_add(a, b)\n",
    "    print(f\"safe_add({a}, {b}) = {result}\")\n",
    "\n",
    "# Expected output:\n",
    "# safe_add(5, Python) = Error: Invalid input types for addition - unsupported operand type(s) for +: 'int' and 'str'\n",
    "# safe_add(3, 5.2) = 8.2\n",
    "# safe_add(2, 5) = 7"
   ]
  },
  {
   "cell_type": "markdown",
   "id": "2d5d545d-1a62-4bea-8b79-446097a95f78",
   "metadata": {},
   "source": [
    "### Part 4: Combining Default Parameters and Return Values\n",
    "In this last section, let's enhance a function to include default parameters and ensure it always returns a formatted string. If you remember, we call these f-strings and they are ways to dynamically pass in information into a string that would otherwise be static text characters in quotation marks.\n",
    "\n",
    "In the cell below:\n",
    " - [ ] Define a function named `calculate_area` that:\n",
    "     - Accepts two parameters: \n",
    "         - `length` \n",
    "         - `width`\n",
    "     - Includes an optional parameter `unit` with a default value of `\"square meters\"`\n",
    "     - Calculates the area and returns a string in the format: `\"<area> <unit>\"`\n",
    "        - Hint: you'll be writing an f-string\n",
    " - [ ] Call the function with `length=5` and `width=10`, and store the result in a variable named `area_result`\n",
    " - [ ] Print `area_result` to see the output"
   ]
  },
  {
   "cell_type": "code",
   "execution_count": null,
   "id": "10cdcebe-123f-471b-b37e-75fdac47fc3f",
   "metadata": {},
   "outputs": [],
   "source": [
    "# Your code here\n",
    "\n",
    "# Step 1: Define the function with default parameters\n",
    "\n",
    "# Step 2: Call the function and store the result\n",
    "\n",
    "# Step 3: Print the formatted result\n"
   ]
  },
  {
   "cell_type": "code",
   "execution_count": 6,
   "id": "3c808f72-307a-47dc-901d-dead41ee6ffe",
   "metadata": {
    "tags": []
   },
   "outputs": [
    {
     "name": "stdout",
     "output_type": "stream",
     "text": [
      "The area of the rectangle is: 50 square meters\n"
     ]
    }
   ],
   "source": [
    "# Step 1: Define the function with default parameters\n",
    "def calculate_area(length, width, unit=\"square meters\"):\n",
    "    area = length * width\n",
    "    return f\"{area} {unit}\"\n",
    "\n",
    "# Step 2: Call the function and store the result\n",
    "area_result = calculate_area(5, 10)\n",
    "\n",
    "# Step 3: Print the formatted result\n",
    "print(f\"The area of the rectangle is: {area_result}\")\n",
    "\n",
    "# Expected Output:\n",
    "# The area of the rectangle is: 50 square meters"
   ]
  },
  {
   "cell_type": "code",
   "execution_count": null,
   "id": "e4c205e7-7249-4617-9161-a86e0b251a4f",
   "metadata": {},
   "outputs": [],
   "source": []
  }
 ],
 "metadata": {
  "kernelspec": {
   "display_name": "default:Python",
   "language": "python",
   "name": "conda-env-default-py"
  },
  "language_info": {
   "codemirror_mode": {
    "name": "ipython",
    "version": 3
   },
   "file_extension": ".py",
   "mimetype": "text/x-python",
   "name": "python",
   "nbconvert_exporter": "python",
   "pygments_lexer": "ipython3",
   "version": "3.9.19"
  }
 },
 "nbformat": 4,
 "nbformat_minor": 5
}
