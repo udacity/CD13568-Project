{
 "cells": [
  {
   "cell_type": "markdown",
   "id": "4cdabcbb-45a7-4e78-96d4-d4571d011433",
   "metadata": {
    "tags": []
   },
   "source": [
    "# Exercise 1: Functions and Generators\n",
    "\n",
    "In this exercise, you’ll practice creating and working with both functions and generators in Python. These exercises will help you understand the key differences between these two types of Python scripts and when to use each type. \n",
    "\n",
    "Keep in mind that:\n",
    " - Functions allow us to encapsulate repeatable code and run one-off executions.\n",
    " - Generators allow for memory-efficient iteration, producing values only when needed.\n",
    "\n",
    "Let's dive into some Python coding with functions and generators below!"
   ]
  },
  {
   "cell_type": "markdown",
   "id": "4a669661-8bae-4b76-b06b-60fd3d8ea02d",
   "metadata": {},
   "source": [
    "### Part 1: Creating and Calling a Function\n",
    "In this part, we'll start by creating a simple function and calling it to understand the basics of user-defined functions.\n",
    "\n",
    "In the cell below:\n",
    " - [ ] Define a function named `greet` that prints `\"Hello, Python Coder!\"`\n",
    " - [ ] Modify the function to accept a parameter, name, and use it to print `\"Hello, <name>!\"` (e.g., \"Hello, Alice!\")\n",
    " - [ ] Add another parameter, time_of_day, and modify the function to print `\"Good <time_of_day>, <name>!\"` (e.g., \"Good morning, Alice!\")\n",
    " - [ ] Update the function to return the greeting message instead of printing it\n",
    " - [ ] Set a default value for time_of_day as \"day\", so the function works even if the argument is omitted\n",
    " - [ ] Create variables `names = [\"Alice\", \"Bob\", \"Charlie\"]` and `times = [\"morning\", \"afternoon\", \"evening\"]`\n",
    " - [ ] Write a loop that:\n",
    "     - Calls the greet function using each name and time of day from the lists\n",
    "     - Prints the returned greeting for each combination"
   ]
  },
  {
   "cell_type": "code",
   "execution_count": null,
   "id": "721133b8-24f6-4938-890d-f510b77ccaf4",
   "metadata": {},
   "outputs": [],
   "source": [
    "# Your code here\n",
    "\n",
    "# Step 1: Define the function\n",
    "\n",
    "# Step 2: Add variables for names and times\n",
    "\n",
    "# Step 3: Loop through names and times & print the function output"
   ]
  },
  {
   "cell_type": "markdown",
   "id": "342623c0-aa9d-4f25-b054-7e98581546d2",
   "metadata": {},
   "source": [
    "### Part 2: Function with Parameters and Return Values\n",
    "Let’s continue building functions in Python. Now you'll incorporate more complex operations with parameters and return values in this section.\n",
    "\n",
    "In the cell below:\n",
    " - [ ] Define a function named `calculate_area` that takes two parameters: `length` and `width`\n",
    " - [ ] Make the function calculate the area of a rectangle and return the result\n",
    " - [ ] Call `calculate_area(5, 10)` and store the result in a variable named `area`\n",
    " - [ ] Print the result as `\"The area of the rectangle is: <area>\"` using an f-string\n",
    " - [ ] Update the function to include an optional parameter `unit` (default: \"square meters\") and return a string, e.g., `\"50 square meters\"`\n"
   ]
  },
  {
   "cell_type": "code",
   "execution_count": null,
   "id": "6d781a35-032a-4f5a-a5a5-83a3d59a8603",
   "metadata": {},
   "outputs": [],
   "source": [
    "# Your code here\n",
    "\n",
    "# Create string variable\n",
    "\n",
    "# Retrieve first character\n",
    "\n",
    "# Retrieve substring\n",
    "\n",
    "# Print results"
   ]
  },
  {
   "cell_type": "markdown",
   "id": "828a9a5c-5e60-4206-a617-5c3b6fdf8ffb",
   "metadata": {},
   "source": [
    "### Part 3: Creating and Using a Generator Function\n",
    "In this part, you'll create and use a generator function. Generators are special functions that use `yield` to produce values one at a time, which makes them memory-efficient and perfect for tasks like processing large datasets or creating values on demand.\n",
    "\n",
    "The main difference between generators and functions is that you should think about functions as one-off executables, while generators are executed to work up to a given limit.\n",
    "\n",
    "In the cell below:\n",
    " - [ ] Define a generator function named `bake_cookies` that:\n",
    "     - Accepts two parameters: \n",
    "         - `batch_size` (number of cookies per batch)\n",
    "         - `max_batches` (optional, defaults to 4)\n",
    "     - Uses a `while` loop to:\n",
    "         - Incrementally produce batches of cookies, one batch at a time\n",
    "         - Stops when `max_batches` is reached\n",
    "         - Incremenets the `batch_count` object\n",
    "         - Hint: create variables `total_cookies` and `batch_count` and set them equal to 0 to use in the generator function\n",
    " - [ ] Create a generator object called `cookie_batches` with `batch_size=5` and `max_batches=3`\n",
    " - [ ] Use a `for` loop to iterate through the `cookie_batches` generator and print the total number of cookies baked after each batch as an f-string like this `Total cookies baked: {cookies}`"
   ]
  },
  {
   "cell_type": "code",
   "execution_count": null,
   "id": "f1d19441-139d-4091-846a-b350c095280b",
   "metadata": {},
   "outputs": [],
   "source": [
    "# Your code here\n",
    "\n",
    "# Step 1: Define the generator function\n",
    "\n",
    "# Step 2: Create a generator object\n",
    "\n",
    "# Step 3: Use a for loop to iterate through the generator and generate batches of cookies\n"
   ]
  },
  {
   "cell_type": "markdown",
   "id": "2d5d545d-1a62-4bea-8b79-446097a95f78",
   "metadata": {},
   "source": [
    "### Part 4: Using `None` as a Default Parameter Value\n",
    "Now that you've learned how to create a generator with a fixed limit, let's explore how to make it more flexible by using `None` as a default parameter value. This next part of the exercise is where you'll practice using `None` as a default value for optional parameters to expand upon your knowledge of how generator functions work in Python.\n",
    "\n",
    "The Python keyword `None` is useful when the function’s behavior needs to change based on the presence or absence of an argument. If a value isn't provided, the `None` placeholder will tell Python that there isn't an argument passed in, but if an argument is passed into that value, that input will overwrite the `None` default and Python will use that declared value instead. This approach is useful for tasks like reading an indefinite stream of data or processing log files line-by-line without loading the entire file into memory.\n",
    "\n",
    "Let's try this out!\n",
    "\n",
    "In the cell below:\n",
    " - [ ] Copy the `bake_cookies` generator function you wrote above and paste it below with a new name `bake_cookies_updated` with these changes:\n",
    "     - Change the default value of `max_batches` to `None`\n",
    "     - Update the `while` loop to continue indefinitely if `max_batches` is set to `None`\n",
    " - [ ] Create a new generator object `unlimited_cookie_batches_updated` with `batch_size` set to `5` and `max_batches` set to `None`\n",
    " - [ ] Use the `next()` function to retrieve batches of cookies from unlimited_cookie_batches and print the results for the first four batches."
   ]
  },
  {
   "cell_type": "code",
   "execution_count": null,
   "id": "10cdcebe-123f-471b-b37e-75fdac47fc3f",
   "metadata": {},
   "outputs": [],
   "source": [
    "# Your code here\n",
    "\n",
    "# Step 1: Copy the previous generator function, rename, and modify\n",
    "\n",
    "# Step 2: Create a generator object with no limit\n",
    "\n",
    "# Step 3: Use next() to retrieve batches of cookies (no limit imposed)\n",
    "print(\"Unlimited Batches:\")\n",
    "print(f\"Batch 1: <<Your Code Here>> cookies\")\n",
    "print(f\"Batch 2: <<Your Code Here>> cookies\")\n",
    "print(f\"Batch 3: <<Your Code Here>> cookies\")\n",
    "print(f\"Batch 4: <<Your Code Here>> cookies\")"
   ]
  }
 ],
 "metadata": {
  "kernelspec": {
   "display_name": "default:Python",
   "language": "python",
   "name": "conda-env-default-py"
  },
  "language_info": {
   "codemirror_mode": {
    "name": "ipython",
    "version": 3
   },
   "file_extension": ".py",
   "mimetype": "text/x-python",
   "name": "python",
   "nbconvert_exporter": "python",
   "pygments_lexer": "ipython3",
   "version": "3.9.19"
  }
 },
 "nbformat": 4,
 "nbformat_minor": 5
}
