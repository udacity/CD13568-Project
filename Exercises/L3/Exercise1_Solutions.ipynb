{
 "cells": [
  {
   "cell_type": "markdown",
   "id": "4cdabcbb-45a7-4e78-96d4-d4571d011433",
   "metadata": {},
   "source": [
    "# Exercise 1: Lists and Tuples (Answers)\n",
    "\n",
    "In this exercise, you’ll practice creating, modifying, and working with lists and tuples in Python. These parts will help you understand the differences between lists (mutable) and tuples (immutable) as collections of data items, along with common operations for each.\n",
    "\n",
    "Python is used very widely to work with various types of data, so these skills will be incredibly important for you to know when you take the PCEP exam and beyond when you are writing Python code at work.\n",
    "\n",
    "Let's code some Python!"
   ]
  },
  {
   "cell_type": "markdown",
   "id": "4a669661-8bae-4b76-b06b-60fd3d8ea02d",
   "metadata": {},
   "source": [
    "### Part 1: Creating Lists and Tuples\n",
    "Let's start by creating a list and a tuple to store some items. This will help acclimate us to these two data structures and how they work in Python.\n",
    "\n",
    "In the cell below:\n",
    " - [ ] Create a list named `cities_list` containing the strings: \"New York\", \"Los Angeles\", and \"Chicago\".\n",
    " - [ ] Create a tuple named `cities_tuple` containing the same strings.\n",
    " - [ ] Print both `cities_list` and `cities_tuple`\n",
    " - [ ] Print the type of `cities_list` and `cities_tuple` to validate the types are correct:\n",
    "     - The type of a list should print: `<class 'list'>`\n",
    "     - The type of a tuple should print: `<class 'tuple'>`"
   ]
  },
  {
   "cell_type": "code",
   "execution_count": null,
   "id": "721133b8-24f6-4938-890d-f510b77ccaf4",
   "metadata": {},
   "outputs": [],
   "source": [
    "# Your code here\n",
    "\n",
    "# Create list and tuple\n",
    "\n",
    "# Print both data collections\n",
    "print(\"Cities List:\", # List variable here...\n",
    "print(\"Cities Tuple:\", # Tuple variable here...\n",
    "      \n",
    "# Print both data collections\n",
    "print(\"Cities List Type:\", # List variable here...\n",
    "print(\"Cities Tuple Type:\", # Tuple variable here..."
   ]
  },
  {
   "cell_type": "code",
   "execution_count": 6,
   "id": "8bb7adcf-2ee9-4b61-a714-d0225fefe198",
   "metadata": {
    "tags": []
   },
   "outputs": [
    {
     "name": "stdout",
     "output_type": "stream",
     "text": [
      "Cities List: ['New York', 'Los Angeles', 'Chicago']\n",
      "Cities Tuple: ('New York', 'Los Angeles', 'Chicago')\n",
      "Cities List Type: <class 'list'>\n",
      "Cities Tuple Type: <class 'tuple'>\n"
     ]
    }
   ],
   "source": [
    "# Part 1: Creating Lists and Tuples\n",
    "\n",
    "# Create a list and a tuple\n",
    "cities_list = [\"New York\", \"Los Angeles\", \"Chicago\"]\n",
    "cities_tuple = (\"New York\", \"Los Angeles\", \"Chicago\")\n",
    "\n",
    "# Print both data collections\n",
    "print(\"Cities List:\", cities_list)\n",
    "print(\"Cities Tuple:\", cities_tuple)\n",
    "\n",
    "# Print both data collection's type\n",
    "print(\"Cities List Type:\", type(cities_list))\n",
    "print(\"Cities Tuple Type:\", type(cities_tuple))\n",
    "\n",
    "# Expected output:\n",
    "# Cities List: ['New York', 'Los Angeles', 'Chicago']\n",
    "# Cities Tuple: ('New York', 'Los Angeles', 'Chicago')\n",
    "# Cities List Type: <class 'list'>\n",
    "# Cities Tuple Type: <class 'tuple'>"
   ]
  },
  {
   "cell_type": "markdown",
   "id": "342623c0-aa9d-4f25-b054-7e98581546d2",
   "metadata": {},
   "source": [
    "### Part 2: Accessing Elements with Indexing\n",
    "Lists and tuples both support indexing, allowing you to access individual elements by their position.\n",
    "\n",
    "Indexing is an important concept because if we need to count over a certain number of items or know that we'll always take the top item (\"first\"), or the last item in the list, indexing is a very handy tool in our Pythonic toolkit we can leverage.\n",
    "\n",
    "In this exercise, let's practice using indexing with lists and tuples.\n",
    "\n",
    "In the cell below:\n",
    " - [ ] Retrieve the 1st element of `cities_list` and store it in a variable named `first_city_list`\n",
    " - [ ] Retrieve the last element of `cities_list` and store it in a variable named `last_city_list`\n",
    " - [ ] Retrieve the 1st element of `cities_tuple` and store it in `first_city_tuple`\n",
    " - [ ] Retrieve the last element of `cities_tuple` and store it in a variable named `last_city_tuple`\n",
    " - [ ] Print the first elements: `first_city_list` and `first_city_tuple`\n",
    "     - Each print statement should look like: `print(\"First city in data_structure:\", variable_here)`\n",
    " - [ ] Print the last elements: `last_city_list` and `last_city_tuple`\n",
    "     - Each print statement should look like: `print(\"First city in data_structure:\", variable_here)`"
   ]
  },
  {
   "cell_type": "code",
   "execution_count": null,
   "id": "6d781a35-032a-4f5a-a5a5-83a3d59a8603",
   "metadata": {},
   "outputs": [],
   "source": [
    "# Your code here\n",
    "\n",
    "# Declare 4 variables\n",
    "\n",
    "# 2 print statements for the first elements\n",
    "\n",
    "# Include this break to separate loops\n",
    "print('---------')\n",
    "\n",
    "# 2 print statements for the last elements\n",
    "\n"
   ]
  },
  {
   "cell_type": "code",
   "execution_count": 3,
   "id": "ef66b77b-47bb-47f3-8424-28e72361beaa",
   "metadata": {},
   "outputs": [
    {
     "name": "stdout",
     "output_type": "stream",
     "text": [
      "First city in list: New York\n",
      "First city in tuple: New York\n",
      "---------\n",
      "Last city in list: Chicago\n",
      "Last city in tuple: Chicago\n"
     ]
    }
   ],
   "source": [
    "# Declare variables:\n",
    "\n",
    "first_city_list = cities_list[0]\n",
    "first_city_tuple = cities_tuple[0]\n",
    "\n",
    "last_city_list = cities_list[-1]\n",
    "last_city_tuple = cities_tuple[-1]\n",
    "\n",
    "# Print the first elements\n",
    "print(\"First city in list:\", first_city_list)\n",
    "print(\"First city in tuple:\", first_city_tuple)\n",
    "\n",
    "# Include this break to separate loops\n",
    "print('---------')\n",
    "\n",
    "# Print the last elements\n",
    "print(\"Last city in list:\", last_city_list)\n",
    "print(\"Last city in tuple:\", last_city_tuple)"
   ]
  },
  {
   "cell_type": "markdown",
   "id": "828a9a5c-5e60-4206-a617-5c3b6fdf8ffb",
   "metadata": {},
   "source": [
    "### Part 3: Modifying Lists and Demonstrating Tuple Immutability\n",
    "The major difference to note when comparing lists and tuples is that lists are mutable, which means you can change their elements, while tuples are immutable and do not allow modifications.\n",
    "\n",
    "For lists, once they're initialized in a Jupyter Notebook or within a Python environment (i.e. a cell is run creating it), you can add and remove items at will. But for tuples, they cannot be edited after being deployed to the Python environment, preserving their values.\n",
    "\n",
    "In the cell below:\n",
    " - [ ] Change the first element in `cities_list` to \"San Francisco\" and print the updated `cities_list`\n",
    " - [ ] Attempt to change the first element in `cities_tuple` to \"San Francisco\"\n",
    "     - Use a try-except block to try the tuple modification, and then catch the error with a `TypeError as e` for the `except statement` to print an error for `e` about tuples not being able to be modified\n",
    "     - Hint: You *might* see an error. Why is this?\n",
    " - [ ] Add a new city \"Orlando\" to `cities_list` using the `.append()` method and print the updated `cities_list`\n",
    " - [ ] Remove a city, \"Chicago\", from `cities_list` using the `.remove()` method and print the updated `cities_list`"
   ]
  },
  {
   "cell_type": "code",
   "execution_count": null,
   "id": "f1d19441-139d-4091-846a-b350c095280b",
   "metadata": {},
   "outputs": [],
   "source": [
    "# Your code here\n",
    "\n",
    "# Step 1 - Modify the first element in the list\n",
    "\n",
    "# Step 2 - Attempt to modify the first element in the tuple\n",
    "\n",
    "# Step 3 - Add a new city to the list\n",
    "\n",
    "# Step 4 - Remove a city from the list\n"
   ]
  },
  {
   "cell_type": "code",
   "execution_count": null,
   "id": "a26595c5-ac82-417d-900b-3fee28cfe921",
   "metadata": {},
   "outputs": [],
   "source": [
    "# Step 1 - Modify the first element in the list\n",
    "cities_list[0] = \"San Francisco\"\n",
    "print(\"After changing the first city in list:\", cities_list)\n",
    "\n",
    "# Step 2 - Attempt to modify the first element in the tuple\n",
    "try:\n",
    "    cities_tuple[0] = \"San Francisco\"\n",
    "except TypeError as e:\n",
    "    print(\"Error when attempting to modify tuple:\", e)\n",
    "\n",
    "# Step 3 - Add a new city to the list\n",
    "cities_list.append(\"Orlando\")\n",
    "print(\"After adding a new city to the list:\", cities_list)\n",
    "\n",
    "# Step 4 - Remove a city from the list\n",
    "cities_list.remove(\"Chicago\")\n",
    "print(\"After removing a city from the list:\", cities_list)\n",
    "\n",
    "\n",
    "# Expected Output:\n",
    "# After changing the first city in list: ['San Francisco', 'Los Angeles', 'Chicago']\n",
    "# Error when attempting to modify tuple: 'tuple' object does not support item assignment\n",
    "# After adding a new city to the list: ['San Francisco', 'Los Angeles', 'Chicago', 'Orlando']\n",
    "# After removing a city from the list: ['San Francisco', 'Los Angeles', 'Orlando']"
   ]
  },
  {
   "cell_type": "markdown",
   "id": "2d5d545d-1a62-4bea-8b79-446097a95f78",
   "metadata": {},
   "source": [
    "### Part 4: Appending to a List and Converting Tuples to Lists\n",
    "As we just saw, only lists can be modified by appending new items. However, we can convert a tuple to a list if we need to modify its content.\n",
    "\n",
    "Let's practice this handy strategy so that we know how to work with lists and tuples interchangeably.\n",
    "\n",
    "In the cell below:\n",
    " - [ ] Convert `cities_tuple` to a list named `cities_tuple_as_list` using the `list()` function\n",
    " - [ ] Append \"Houston\" to the new `cities_tuple_as_list` list and print `cities_tuple_as_list` with the label `\"Modified Tuple (as a list):\"` to see the changes\n",
    " - [ ] Convert `cities_tuple_as_list` back to a tuple and assign it to the original `cities_tuple` variable, updating its content with what is in this new data structure\n",
    " - [ ] Print `cities_tuple` to confirm that the originally-created tuple now includes \"Houston\" and has been updated with new contents"
   ]
  },
  {
   "cell_type": "code",
   "execution_count": null,
   "id": "10cdcebe-123f-471b-b37e-75fdac47fc3f",
   "metadata": {},
   "outputs": [],
   "source": [
    "# Your code here\n",
    "\n",
    "# Step 1 - Convert tuple to list\n",
    "\n",
    "# Step 2 - Append new city to the new list and print the new list\n",
    "\n",
    "# Step 3 - Convert the modified list back to a tuple and assign it to the original tuple variable\n",
    "\n",
    "# Step 4 - Print the contents of the newly updated original tuple\n"
   ]
  },
  {
   "cell_type": "code",
   "execution_count": null,
   "id": "3c808f72-307a-47dc-901d-dead41ee6ffe",
   "metadata": {
    "tags": []
   },
   "outputs": [],
   "source": [
    "# Step 1 - Convert tuple to list\n",
    "cities_tuple_as_list = list(cities_tuple)\n",
    "\n",
    "# Step 2 - Append new city to the new list and print the new list\n",
    "cities_tuple_as_list.append(\"Houston\")\n",
    "print(\"Modified Tuple (as a list):\", cities_tuple_as_list)\n",
    "\n",
    "# Step 3 - Convert the modified list back to a tuple and assign it to the original tuple variable\n",
    "cities_tuple = tuple(cities_tuple_as_list)\n",
    "\n",
    "# Step 4 - Print the contents of the newly updated original tuple\n",
    "print(\"Modified Original Tuple:\", cities_tuple)\n",
    "\n",
    "\n",
    "# Expected Output:\n",
    "# Modified Tuple (as a list): ['New York', 'Los Angeles', 'Chicago', 'Houston']\n",
    "# Modified Original Tuple: ('New York', 'Los Angeles', 'Chicago', 'Houston')"
   ]
  }
 ],
 "metadata": {
  "kernelspec": {
   "display_name": "default:Python",
   "language": "python",
   "name": "conda-env-default-py"
  },
  "language_info": {
   "codemirror_mode": {
    "name": "ipython",
    "version": 3
   },
   "file_extension": ".py",
   "mimetype": "text/x-python",
   "name": "python",
   "nbconvert_exporter": "python",
   "pygments_lexer": "ipython3",
   "version": "3.9.19"
  }
 },
 "nbformat": 4,
 "nbformat_minor": 5
}
