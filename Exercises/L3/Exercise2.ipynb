{
 "cells": [
  {
   "cell_type": "markdown",
   "id": "4cdabcbb-45a7-4e78-96d4-d4571d011433",
   "metadata": {
    "tags": []
   },
   "source": [
    "# Exercise 2: String Methods\n",
    "\n",
    "In this exercise, you’ll practice working with strings in Python. These exercises will help you understand how to manipulate and work with text data, like alphanumeric phrases or text with special characters, which is incredibly useful in many real-world applications like handling user input, generating reports, or processing text data.\n",
    "\n",
    "Strings are all around us, and if you remember from the very beginning, when we wrote \"Hello, World!\" - that phrase is in fact a string. If an app greets you and says, \"Good morning, Python Coder!\" - that again is a string.\n",
    "\n",
    "Strings are all around us, so let's dive into coding with some essential string methods!"
   ]
  },
  {
   "cell_type": "markdown",
   "id": "4a669661-8bae-4b76-b06b-60fd3d8ea02d",
   "metadata": {},
   "source": [
    "### Part 1: Constructing Strings\n",
    "Let's start by constructing a few strings. Strings in Python are sequences of characters that can be created using single or double quotes. In this part, we'll review how to create strings and print them.\n",
    "\n",
    "In the cell below:\n",
    " - [ ] Create a string variable named `name` containing the text `\"Python Coder\"`\n",
    " - [ ] Create another string variable named `greeting` containing the text `\"Hello, World!\"`\n",
    " - [ ] Print both `name` and `greeting`\n",
    " - [ ] Print the type of `name` and `greeting` to verify they are strings"
   ]
  },
  {
   "cell_type": "code",
   "execution_count": null,
   "id": "721133b8-24f6-4938-890d-f510b77ccaf4",
   "metadata": {},
   "outputs": [],
   "source": [
    "# Your code here\n",
    "\n",
    "# Create strings\n",
    "\n",
    "# Print strings\n",
    "\n",
    "# Print types\n"
   ]
  },
  {
   "cell_type": "markdown",
   "id": "342623c0-aa9d-4f25-b054-7e98581546d2",
   "metadata": {},
   "source": [
    "### Part 2: String Indexing and Slicing\n",
    "Just like lists, strings support indexing and slicing as well. This allows you to access specific characters or sections of a string.\n",
    "\n",
    "This can become very important because if you needed to only extract a certain section of a string, this is all possible thanks to Python.\n",
    "\n",
    "In the cell below:\n",
    " - [ ] Create a variable called `phrase` with the value `\"Python is so cool\"`\n",
    " - [ ] Retrieve the first character of `phrase` and store it in `first_char`\n",
    " - [ ] Retrieve the substring `\"awesome\"` using slicing and store it in `substring`\n",
    " - [ ] Print `first_char` and `substring` with appropriate labels"
   ]
  },
  {
   "cell_type": "code",
   "execution_count": null,
   "id": "6d781a35-032a-4f5a-a5a5-83a3d59a8603",
   "metadata": {},
   "outputs": [],
   "source": [
    "# Your code here\n",
    "\n",
    "# Create string variable\n",
    "\n",
    "# Retrieve first character\n",
    "\n",
    "# Retrieve substring\n",
    "\n",
    "# Print results"
   ]
  },
  {
   "cell_type": "markdown",
   "id": "828a9a5c-5e60-4206-a617-5c3b6fdf8ffb",
   "metadata": {},
   "source": [
    "### Part 3: Changing Case with `lower()` and `upper()`\n",
    "Python provides methods to convert strings to all lowercase or uppercase, which is useful for standardizing text.\n",
    "\n",
    "This is very handy, especially if you're listening for a specific word or phrase, but you don't want it to be case sensitive. For example, if you are writing a Python program, and you want to allow users to write `exit` and that will stop the program, you might make the user input be turned to lowercase or uppercase so that whether a user types `EXIT` or `exit` or `Exit`, any combination of these will still be read the same in Python as: `exit`.\n",
    "\n",
    "In the cell below:\n",
    " - [ ] Create a string variable `sentence` with the value `\"Python Programming is Fun\"`\n",
    " - [ ] Convert `sentence` to lowercase and store it in a variable named `lowercase_sentence`\n",
    " - [ ] Convert `sentence` to uppercase and store it in a variable named `uppercase_sentence`\n",
    " - [ ] Print `lowercase_sentence` and `uppercase_sentence` with appropriate labels\n"
   ]
  },
  {
   "cell_type": "code",
   "execution_count": null,
   "id": "f1d19441-139d-4091-846a-b350c095280b",
   "metadata": {},
   "outputs": [],
   "source": [
    "# Your code here\n",
    "\n",
    "# Create string variable\n",
    "\n",
    "# Convert variable to lowercase\n",
    "\n",
    "# Convert variable to uppercase\n",
    "\n",
    "# Print results\n"
   ]
  },
  {
   "cell_type": "markdown",
   "id": "2d5d545d-1a62-4bea-8b79-446097a95f78",
   "metadata": {},
   "source": [
    "### Part 4: Replacing Text with `replace()`\n",
    "The `replace()` method allows you to replace specific parts of a string with new content. This is especially useful for formatting or updating strings dynamically.\n",
    "\n",
    "For example, let's take autocorrect as an example. Everytime that someone writes \"hbu\", this is replaced to become \"How about you?\" as the phrase. Python wants to make our lives much easier, so think about `replace()` as a method to help you transform you text where, \"if this, then turn it into that.\"\n",
    "\n",
    "In the cell below:\n",
    " - [ ] Create a variable `original_text` with the value `\"I love TypeScript\"`\n",
    " - [ ] Use the `replace()` method to replace `\"TypeScript\"` with `\"Python\"` and store the result in a variable `updated_text`\n",
    " - [ ] Print `updated_text` to verify the change"
   ]
  },
  {
   "cell_type": "code",
   "execution_count": null,
   "id": "10cdcebe-123f-471b-b37e-75fdac47fc3f",
   "metadata": {},
   "outputs": [],
   "source": [
    "# Your code here\n",
    "\n",
    "# Create original string\n",
    "\n",
    "# Replace 'TypeScript' with 'Python'\n",
    "\n",
    "# Print updated text\n"
   ]
  },
  {
   "cell_type": "markdown",
   "id": "2c51162a-b811-4ee7-97e0-7f00db932f3b",
   "metadata": {},
   "source": [
    "### Part 5: Splitting Strings with `split()`\n",
    "The `split()` method divides a string into a list of words or phrases, using a specified delimiter. This is useful for parsing text data.\n",
    "\n",
    "A delimiter is just a fancy word for \"finder\" where you might look for words in a string that are separated by a space \" \", or a comma \",\" so that you can then put then into a collection of words, as you'll do in this exercise.\n",
    "\n",
    "In the cell below:\n",
    " - [ ] Create a variable `text_data` with the value `\"Python is an amazing language\"`\n",
    " - [ ] Split `text_data` by spaces and store the result in `words`\n",
    " - [ ] Print `words` to see the list of individual words"
   ]
  },
  {
   "cell_type": "code",
   "execution_count": null,
   "id": "9515fc01-bbaa-4a5e-a8d7-b5545963ef55",
   "metadata": {},
   "outputs": [],
   "source": [
    "# Your code here\n",
    "\n",
    "# Create text data\n",
    "\n",
    "# Split text data\n",
    "\n",
    "# Print the list of words\n"
   ]
  }
 ],
 "metadata": {
  "kernelspec": {
   "display_name": "default:Python",
   "language": "python",
   "name": "conda-env-default-py"
  },
  "language_info": {
   "codemirror_mode": {
    "name": "ipython",
    "version": 3
   },
   "file_extension": ".py",
   "mimetype": "text/x-python",
   "name": "python",
   "nbconvert_exporter": "python",
   "pygments_lexer": "ipython3",
   "version": "3.9.19"
  }
 },
 "nbformat": 4,
 "nbformat_minor": 5
}
