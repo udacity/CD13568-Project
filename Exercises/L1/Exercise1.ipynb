{
 "cells": [
  {
   "cell_type": "markdown",
   "id": "4cdabcbb-45a7-4e78-96d4-d4571d011433",
   "metadata": {},
   "source": [
    "# Exercise 1: Jupyter Notebook and Intro to Python 101\n",
    "\n",
    "In this exercise, you'll learn how to write and execute Python code in a Jupyter Notebook. You'll write a simple program and explore some Python basics that will set the stage for your future learning in this course and beyond. \n",
    "\n",
    "Let's start by writing our first Python program, a \"Hello, World!\" program, to get acclimated to Jupyter Notebooks and how we execute Python code inside of cells within these notebooks."
   ]
  },
  {
   "cell_type": "markdown",
   "id": "4a669661-8bae-4b76-b06b-60fd3d8ea02d",
   "metadata": {},
   "source": [
    "### Part 1: Write Your First \"Hello, World!\" App\n",
    "Here, we'll write our very first type of Python program, a \"Hello World\" application as an intro to how Python works.\n",
    "\n",
    "- [ ] Use the print keyword to print the phrase \"Hello, World!\"\n",
    "- [ ] Execute the cell with either the ▶️ button on the toolbar at the top, or press `[SHIFT] + [ENTER]`"
   ]
  },
  {
   "cell_type": "code",
   "execution_count": null,
   "id": "889de516-8060-4154-a42a-32989b87662f",
   "metadata": {},
   "outputs": [],
   "source": [
    "# Your code goes here"
   ]
  },
  {
   "cell_type": "markdown",
   "id": "342623c0-aa9d-4f25-b054-7e98581546d2",
   "metadata": {},
   "source": [
    "### Part 2: Working with Variables in Python\n",
    "In Python, variables allow us to store information that we can use later in our program or Python environment. \n",
    "\n",
    "In the cell below:\n",
    " - [ ] Create a variable called `age` and assign it the value `25`. \n",
    " - [ ] Print the variable so that the console prints: \"The age is, age\""
   ]
  },
  {
   "cell_type": "code",
   "execution_count": null,
   "id": "8685ba87-9244-4437-9e6b-a7b929f297e0",
   "metadata": {},
   "outputs": [],
   "source": [
    "# Start by declaring a variable\n",
    "age = 25\n",
    "\n",
    "# Can you figure out the print statement?\n",
    "# Your code goes here"
   ]
  },
  {
   "cell_type": "markdown",
   "id": "828a9a5c-5e60-4206-a617-5c3b6fdf8ffb",
   "metadata": {},
   "source": [
    "### Part 3: Working with `if` Statements in Python\n",
    "Control flow allows us to make decisions in our code. Using an `if` statement, we can check a condition and run code only if that condition is met. For example, if something IS true, then do xyz... or if something IS NOT true (i.e. it is false), then do abc.\n",
    "\n",
    "In the cell below:\n",
    " - [ ] Set a variable `x` equal to 20\n",
    " - [ ] Write an if statement where that if x is greater than 10, Python will print the phrase \"x is greater than 10\"\n",
    " - [ ] Make sure to indent the print statement correctly"
   ]
  },
  {
   "cell_type": "code",
   "execution_count": null,
   "id": "3469c17c-f308-4004-a04c-1f1f0c741bee",
   "metadata": {},
   "outputs": [],
   "source": [
    "# Try and declare a variable for x that equals 20 like in the cell above\n",
    "x = 20\n",
    "\n",
    "# Now we'll declare an if statement. You'll learn more about if statements in coming videos\n",
    "if x > 10:\n",
    "    print(\"x is greater than 10\")"
   ]
  },
  {
   "cell_type": "markdown",
   "id": "4cf54816-e745-4918-8b96-f03c34fa2b75",
   "metadata": {},
   "source": [
    "### Part 4: Writing Functions with Integers\n",
    "\n",
    "Functions are reusable pieces of code that perform a specific task, and once they are saved to our Jupyter Notebook environment, they can be called again, and again. Let's look at how to work with integers (real numbers greater than 0) with our own custom function for adding numbers.\n",
    "\n",
    "In the cell below:\n",
    " - [ ] Create a function that adds two numbers together, named `add_numbers_together`\n",
    " - [ ] Ensure that the `add_numbers_together` function can accept 2 parameters: `x` and `y`\n",
    "  - [ ] Ensure that the`add_numbers_together` function returns the sum (addition) of both `x` and `y`\n",
    "  - [ ] Use this new function to add `num1` and `num2` together"
   ]
  },
  {
   "cell_type": "code",
   "execution_count": null,
   "id": "a7477e9b-7273-4a10-86d6-ccfa48b7ae98",
   "metadata": {},
   "outputs": [],
   "source": [
    "num1 = 1\n",
    "num2 = 2\n",
    "\n",
    "# Now we'll try adding two numbers together\n",
    "def add_numbers_together(x, y):\n",
    "    return x + y\n",
    "\n",
    "# Here is another way to add numbers together\n",
    "add_numbers_together(num1, num2)\n",
    "    # or\n",
    "sum = add_numbers_together(num1, num2)\n",
    "print(sum)"
   ]
  },
  {
   "cell_type": "markdown",
   "id": "8d2f2785-2424-4819-9fa3-c81f8c2ef614",
   "metadata": {},
   "source": [
    "### Part 5: Writing Functions with Strings\n",
    "\n",
    "Just like with numbers (or integers), we can add strings together too. Strings are sequences of alphanumeric characters that can be used to represent text.\n",
    "\n",
    "In the cell below:\n",
    " - [ ] Create a function named `add_strings_together` that adds two strings together\n",
    " - [ ] Ensure that the `add_strings_together` function accepts 2 parameters: `a` and `b`\n",
    "  - [ ] Ensure that the`add_strings_together` function returns the concatenation (sum) of both `a` and `b`\n",
    "  - [ ] Use this new function to add `str1` and `str2` together.\n",
    "  \n",
    "^ Notice how `str2` includes a space before `\" World\"`. Be sure to include that so that the space is added when the strings are concatenated (combined)."
   ]
  },
  {
   "cell_type": "code",
   "execution_count": null,
   "id": "b94b9245-a89e-42a1-bf0e-370f6902b7ee",
   "metadata": {},
   "outputs": [],
   "source": [
    "str1 = \"Hello\"\n",
    "str2 = \" World\"\n",
    "#Your code goes here",
				"\n",
    "#Give this one a try with just what you've learned in the exercise. \n",
    "#If you are struggling don't worry we'll cover this in detail later. \n",
    "#For now just play around with the code for a few minutes. \n",
    "#Were you successful? Either way is ok for this one. \n",
    "#The goal is to become a little more comfortable with Jupyter Notebooks and try coding for the first time."

   ]
  }
 ],
 "metadata": {
  "kernelspec": {
   "display_name": "default:Python",
   "language": "python",
   "name": "conda-env-default-py"
  },
  "language_info": {
   "codemirror_mode": {
    "name": "ipython",
    "version": 3
   },
   "file_extension": ".py",
   "mimetype": "text/x-python",
   "name": "python",
   "nbconvert_exporter": "python",
   "pygments_lexer": "ipython3",
   "version": "3.9.19"
  }
 },
 "nbformat": 4,
 "nbformat_minor": 5
}
