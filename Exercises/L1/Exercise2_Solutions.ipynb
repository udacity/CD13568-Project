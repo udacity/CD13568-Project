{
 "cells": [
  {
   "cell_type": "markdown",
   "id": "4cdabcbb-45a7-4e78-96d4-d4571d011433",
   "metadata": {},
   "source": [
    "# Exercise 2: Strings and Basic Numeric Operations (Answers)\n",
    "\n",
    "In this exercise, you'll learn how to work with strings and numbers in Python. \n",
    "\n",
    "By practicing your Python skills with various operators, you'll see how to build expressions, make comparisons, and perform basic arithmetic - all crucial tools for writing Python programs, applications, scripts, and more."
   ]
  },
  {
   "cell_type": "markdown",
   "id": "4a669661-8bae-4b76-b06b-60fd3d8ea02d",
   "metadata": {},
   "source": [
    "### Part 1: String Concatenation and Repetition\n",
    "In Python, you can add strings together (concatenation) and repeat them a specified number of times. Let’s start with these basic operations.\n",
    "\n",
    "- [ ] Create a string named `greeting` equal to \"Hello, \"\n",
    "- [ ] Create a string named `name` equal to \"Python Student\"\n",
    "- [ ] Concatenate these two strings together to print the string: \"Hello, Python Student\"\n",
    "- [ ] Print the `greeting` string repeated three times, like this: \"Hello, Hello, Hello, \""
   ]
  },
  {
   "cell_type": "code",
   "execution_count": null,
   "id": "8bb7adcf-2ee9-4b61-a714-d0225fefe198",
   "metadata": {
    "tags": []
   },
   "outputs": [],
   "source": [
    "# Your code here\n",
    "\n",
    "# Concatenation\n",
    "# Repetition"
   ]
  },
  {
   "cell_type": "code",
   "execution_count": null,
   "id": "fce20b80-cc52-4f7e-ab1f-6de0bc860933",
   "metadata": {},
   "outputs": [],
   "source": [
    "# Part 1-2\n",
    "greeting = \"Hello, \"\n",
    "name = \"Python Student\"\n",
    "\n",
    "# Part 3 - Concatenate and print\n",
    "print(greeting + name)\n",
    "\n",
    "# Part 4 - Repeat and print\n",
    "print(greeting * 3)"
   ]
  },
  {
   "cell_type": "markdown",
   "id": "342623c0-aa9d-4f25-b054-7e98581546d2",
   "metadata": {},
   "source": [
    "### Part 2: Basic Numeric Operations\n",
    "Now, let’s dive into some basic mathematical operations using integers. Just like with strings, numbers have their own set of rules, which we'll practice with momentarily.\n",
    "\n",
    "In the cell below:\n",
    " - [ ] Create an variable called `a` and assign it the integer `10`\n",
    " - [ ] Create an variable called `b` and assign it the integer `3`\n",
    " - [ ] Print the result of adding `a` and `b` together (addition)\n",
    " - [ ] Print the result of subtracting `b` from `a` (subtraction)\n",
    " - [ ] Print the result of multiplying `a` and `b` together (multiplication)\n",
    " - [ ] Print the result of `a` divided by `b` (division)\n",
    " - [ ] Print the modulus of `a` divided by `b` (remainder)\n",
    " - [ ] Print `a` raised to the power of `b` (exponentiation)"
   ]
  },
  {
   "cell_type": "code",
   "execution_count": null,
   "id": "50afe411-b510-4207-910b-454d27f8c602",
   "metadata": {
    "tags": []
   },
   "outputs": [],
   "source": [
    "# Your code here\n",
    "\n",
    "# Addition\n",
    "# Subtraction\n",
    "# Multiplication\n",
    "# Division\n",
    "# Modulus\n",
    "# Exponentiation"
   ]
  },
  {
   "cell_type": "code",
   "execution_count": null,
   "id": "ef66b77b-47bb-47f3-8424-28e72361beaa",
   "metadata": {},
   "outputs": [],
   "source": [
    "# Define the variables\n",
    "a = 10\n",
    "b = 3\n",
    "\n",
    "# Process numeric operations\n",
    "print(a + b)      # Addition\n",
    "print(a - b)      # Subtraction\n",
    "print(a * b)      # Multiplication\n",
    "print(a / b)      # Division\n",
    "print(a % b)      # Modulus\n",
    "print(a ** b)     # Exponentiation"
   ]
  },
  {
   "cell_type": "markdown",
   "id": "828a9a5c-5e60-4206-a617-5c3b6fdf8ffb",
   "metadata": {},
   "source": [
    "### Part 3: Using Floor Division for Whole Numbers\n",
    "Sometimes, we only need the whole number part of a division. Floor division (//) does this by rounding down to the nearest integer.\n",
    "\n",
    "This is a very handy trick with dealing with numbers in Python, so we'll practice working with this numeric operation in a moment. Going through this exercise, notice how the value that floor division returns is quite different from the value that regular division yields. Keep this in mind as to how different numeric operations will yield different results, even when working with the same numbers.\n",
    "\n",
    "In the cell below:\n",
    " - [ ] Create an variable called `c` and assign it the integer `14`\n",
    " - [ ] Create an variable called `d` and assign it the integer `6`\n",
    " - [ ] Print the floor division of `d` by `c`\n",
    " - [ ] Print the regular division of `d` by `c` (notice how this is different from floor divison)"
   ]
  },
  {
   "cell_type": "code",
   "execution_count": null,
   "id": "f5798ef9-727e-4af5-a70f-41050ccae18a",
   "metadata": {
    "tags": []
   },
   "outputs": [],
   "source": [
    "# Your code here\n",
    "\n",
    "# Floor division\n",
    "# Division"
   ]
  },
  {
   "cell_type": "code",
   "execution_count": null,
   "id": "a26595c5-ac82-417d-900b-3fee28cfe921",
   "metadata": {},
   "outputs": [],
   "source": [
    "# Define the variables\n",
    "c = 14\n",
    "d = 6\n",
    "\n",
    "# Floor division\n",
    "print(c // d)\n",
    "\n",
    "# Regular division\n",
    "print(c / d)"
   ]
  },
  {
   "cell_type": "markdown",
   "id": "4cf54816-e745-4918-8b96-f03c34fa2b75",
   "metadata": {},
   "source": [
    "### Part 4: String and Arithmetic Mixed Operations\n",
    "\n",
    "When we are writing our Python code, we will often combine strings and numbers together to create more dynamic outputs. You will notice this in errors or functions where multiple values could be passed into a single result and compiled together.\n",
    "\n",
    "Let's practice how to do that with strings and numbers here.\n",
    "\n",
    "In the cell below:\n",
    " - [ ] Create a variable `lines_of_code_to_write` and set that equal to the integer `30`\n",
    " - [ ] Print a string using that variable to say: \"I have 30 lines of code to write today!\"\n",
    "     - Make sure to convert the variable to a string with `str()`\n",
    "     - Be careful to include spaces where/when appropriate for the result"
   ]
  },
  {
   "cell_type": "code",
   "execution_count": null,
   "id": "ee298bbd-427c-4452-94bc-e209507c178b",
   "metadata": {
    "tags": []
   },
   "outputs": [],
   "source": [
    "# Your code here"
   ]
  },
  {
   "cell_type": "code",
   "execution_count": null,
   "id": "50bb99fa-0d52-4d2d-9e9f-8a58389e91ee",
   "metadata": {},
   "outputs": [],
   "source": [
    "# Define variable\n",
    "lines_of_code_to_write = 30\n",
    "\n",
    "# Combine string and integer in a sentence\n",
    "print(\"I have \" + str(lines_of_code_to_write) + \" of code to write today!\")"
   ]
  },
  {
   "cell_type": "markdown",
   "id": "8d2f2785-2424-4819-9fa3-c81f8c2ef614",
   "metadata": {},
   "source": [
    "### Part 5: Using Conditional Statements with Modulus\n",
    "\n",
    "Finally, let's dive into the modulus operator. This operator gives us lots of powerful abilities in Python, such as helping us determine whether a number is even or odd. Let's see why this is such a helpful operator for a task like this.\n",
    "\n",
    "A quick note: this exercise includes a for loop and we'll be learning about this in a later section. For loops are another way of saying: \"for 'an item' in 'this collection'... do this code\". Here, you only need to add the modulus operator and the code will run.\n",
    "\n",
    "In the cell below:\n",
    " - [ ] Create a variable called `team_a` that is equal to an empty list \n",
    " - [ ] Create a variable called `team_b` that is equal to an empty list \n",
    " - [ ] Fill in the missing operator (`<<YOUR OPERATOR HERE>>`) in the for loop to perform the modulus operation\n",
    " - [ ] Print both lists by filling in the variable for each print statement"
   ]
  },
  {
   "cell_type": "code",
   "execution_count": null,
   "id": "c0da4df9-3eb0-464c-b836-9e73b26bf6cd",
   "metadata": {
    "tags": []
   },
   "outputs": [],
   "source": [
    "participants = [1, 2, 3, 4, 5, 6, 7, 8, 9, 10]\n",
    "\n",
    "# Add modulus operator to this for loop \n",
    "for participant in participants:\n",
    "    if participant <<YOUR OPERATOR HERE>> 2 == 0:\n",
    "        team_a.append(participant)\n",
    "    else:\n",
    "        team_b.append(participant)\n",
    "\n",
    "# Print results\n",
    "print(\"Team A (Even-numbered participants):\", #Your Variable Here)\n",
    "print(\"Team B (Odd-numbered participants):\", #Your Variable Here)"
   ]
  },
  {
   "cell_type": "code",
   "execution_count": null,
   "id": "bc66b83f-ab9f-442b-a294-26f09a435a87",
   "metadata": {},
   "outputs": [],
   "source": [
    "# Define participants and teams\n",
    "participants = [1, 2, 3, 4, 5, 6, 7, 8, 9, 10]\n",
    "team_a = []\n",
    "team_b = []\n",
    "\n",
    "# For loops are another way of saying: \"for 'an item' in 'this collection'... do this code\"\n",
    "for participant in participants:\n",
    "    if participant % 2 == 0:\n",
    "        team_a.append(participant)\n",
    "    else:\n",
    "        team_b.append(participant)\n",
    "\n",
    "\n",
    "# Print results\n",
    "print(\"Team A (Even-numbered participants):\", team_a)\n",
    "print(\"Team B (Odd-numbered participants):\", team_b)"
   ]
  }
 ],
 "metadata": {
  "kernelspec": {
   "display_name": "default:Python",
   "language": "python",
   "name": "conda-env-default-py"
  },
  "language_info": {
   "codemirror_mode": {
    "name": "ipython",
    "version": 3
   },
   "file_extension": ".py",
   "mimetype": "text/x-python",
   "name": "python",
   "nbconvert_exporter": "python",
   "pygments_lexer": "ipython3",
   "version": "3.9.19"
  }
 },
 "nbformat": 4,
 "nbformat_minor": 5
}
