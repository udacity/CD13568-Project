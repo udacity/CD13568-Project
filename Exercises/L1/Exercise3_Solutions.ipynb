{
 "cells": [
  {
   "cell_type": "markdown",
   "id": "4cdabcbb-45a7-4e78-96d4-d4571d011433",
   "metadata": {},
   "source": [
    "# Exercise 3: Boolean Expressions and L1 Recap (Answers)\n",
    "\n",
    "In this exercise, you'll explore the Pythonic world of relational operators, the accuracy of floating-point numbers, and type casting. \n",
    "\n",
    "By practicing these skills, you’ll learn how to effectively compare values, handle decimal precision, and convert between data types. These techniques are essential for building expressions, making comparisons, and performing precise calculations.\n",
    "\n",
    "Let's dive into the code!"
   ]
  },
  {
   "cell_type": "markdown",
   "id": "4a669661-8bae-4b76-b06b-60fd3d8ea02d",
   "metadata": {},
   "source": [
    "### Part 1: Relational Operators\n",
    "In Python, relational operators are essential tools that allow us to compare values to each other. You use phrases like this all the time, such as: \"is this price greater than that one\", or \"does this amount equal that amount?\"\n",
    "\n",
    "Let’s go over each of these operators with examples.\n",
    "\n",
    "In the cell below:\n",
    " - [ ] Create a variable called `a` and assign it the integer 5\n",
    " - [ ] Create a variable called `b` and assign it the integer 3\n",
    " - [ ] Print the result of checking if `a` is equal to `b`\n",
    " - [ ] Print the result of checking if `a` is not equal to `b`\n",
    " - [ ] Print the result of checking if `a` is greater than `b`\n",
    " - [ ] Print the result of checking if `a` is greater than or equal to `b`\n",
    " - [ ] Print the result of checking if `a` is less than `b`\n",
    " - [ ] Print the result of checking if `a` is less than or equal to `b`"
   ]
  },
  {
   "cell_type": "code",
   "execution_count": null,
   "id": "8bb7adcf-2ee9-4b61-a714-d0225fefe198",
   "metadata": {
    "tags": []
   },
   "outputs": [],
   "source": [
    "# Your code here\n",
    "\n",
    "# Define variables\n",
    "a = 5\n",
    "b = 3\n",
    "\n",
    "# Process relational operations\n",
    "print(a == b)      # Equal to\n",
    "print(a != b)      # Not equal to\n",
    "print(a > b)       # Greater than\n",
    "print(a >= b)      # Greater than or equal to\n",
    "print(a < b)       # Less than\n",
    "print(a <= b)      # Less than or equal to"
   ]
  },
  {
   "cell_type": "markdown",
   "id": "342623c0-aa9d-4f25-b054-7e98581546d2",
   "metadata": {},
   "source": [
    "### Part 2: Accuracy of Floating-Point Numbers\n",
    "One of the trickiest parts of Python to be on the lookout for is when floating-point inaccuracies pop up. \n",
    "\n",
    "Floating-point numbers can sometimes produce unexpected results due to the way they are stored in memory. Let’s explore why this happens and how to handle it.\n",
    "\n",
    "In the cell below:\n",
    " - [ ] Create a variable called `num1` and assign it the floating-point number `0.1`\n",
    " - [ ] Create a variable called `num2` and assign it the floating-point number `0.2`\n",
    " - [ ] Create a variable called `sum` and assign it to the result of adding `num1 + num2` together\n",
    " - [ ] Print `sum == 0.3` to see if it evaluates to `True` or `False`\n",
    " and see if it evaluates to True or False\n",
    " - [ ] Print `num1 + num2` to observe the actual output\n",
    " - [ ] Import the Decimal class from the decimal module\n",
    " - [ ] Create a variable called `num1_decimal` and set that equal to the stringified version of `num1`\n",
    " - [ ] Create a variable called `num2_decimal` and set that equal to the stringified version of `num2`\n",
    " - [ ] Print `num1_decimal` + `num2_decimal` to observe the precise result using the Decimal module"
   ]
  },
  {
   "cell_type": "code",
   "execution_count": null,
   "id": "ef66b77b-47bb-47f3-8424-28e72361beaa",
   "metadata": {},
   "outputs": [],
   "source": [
    "# Your code here\n",
    "\n",
    "# Part 1-2 - Create variables \n",
    "num1 = 0.1\n",
    "num2 = 0.2\n",
    "\n",
    "# Part 3 - Create sum\n",
    "sum = num1 + num2\n",
    "\n",
    "# Part 4 - Evaluate sum as True or False\n",
    "print(sum == 0.3)   # Expected output: False\n",
    "\n",
    "# Part 5 - Print sum\n",
    "print(sum)  # Expected output: 0.30000000000000004\n",
    "\n",
    "# Part 6 - Import Decimal class\n",
    "from decimal import Decimal\n",
    "\n",
    "# Part 7-8 - Create decimal variables\n",
    "num1_decimal = Decimal(str(num1))\n",
    "num2_decimal = Decimal(str(num2))\n",
    "\n",
    "# Part 9 - Print the stringified Decimal versions of the decimal variables\n",
    "print(num1_decimal + num2_decimal)  # Expected output: 0.3"
   ]
  },
  {
   "cell_type": "markdown",
   "id": "828a9a5c-5e60-4206-a617-5c3b6fdf8ffb",
   "metadata": {},
   "source": [
    "### Part 3: Type Casting\n",
    "Type casting allows us to convert values from one data type to another, which is very useful when handling different kinds of data. In the last module, we actually used type casting to turn our floating point number into a string. \n",
    "\n",
    "Type casting ensures that Python will understand the different data types we work with, and also helps us avoid unexpected errors when we write our code. Let's practice some examples of how to use type casting.\n",
    "\n",
    "In the cell below:\n",
    " - [ ] Create a variable `a` and assign it the string `\"123\"`\n",
    " - [ ] Convert `a` to an integer and store it in a variable named `b`\n",
    " - [ ] Print `b` to verify the data type conversion worked\n",
    " - [ ] Print the type of `b` to confirm it is now an integer and no longer a string\n",
    " - [ ] Create another variable `c` and assign it the string `\"123.45\"`\n",
    " - [ ] Convert `c` to a float and store it in a variable `d`\n",
    " - [ ] Print `d` to verify the conversion worked\n",
    " - [ ] Print the type of `d` to confirm it is now a float"
   ]
  },
  {
   "cell_type": "code",
   "execution_count": null,
   "id": "a26595c5-ac82-417d-900b-3fee28cfe921",
   "metadata": {},
   "outputs": [],
   "source": [
    "# Steps 1-4 Converting to an integer with int()\n",
    "a = \"123\"\n",
    "b = int(a)\n",
    "print(b)          # Expected output: 123\n",
    "print(type(b))    # Expected output: <class 'int'>\n",
    "\n",
    "# Steps 5-8 Converting to a floating-point number with float()\n",
    "c = \"123.45\"\n",
    "d = float(c)\n",
    "print(d)          # Expected output: 123.45\n",
    "print(type(d))    # Expected output: <class 'float'>"
   ]
  }
 ],
 "metadata": {
  "kernelspec": {
   "display_name": "default:Python",
   "language": "python",
   "name": "conda-env-default-py"
  },
  "language_info": {
   "codemirror_mode": {
    "name": "ipython",
    "version": 3
   },
   "file_extension": ".py",
   "mimetype": "text/x-python",
   "name": "python",
   "nbconvert_exporter": "python",
   "pygments_lexer": "ipython3",
   "version": "3.9.19"
  }
 },
 "nbformat": 4,
 "nbformat_minor": 5
}
