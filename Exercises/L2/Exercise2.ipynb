{
 "cells": [
  {
   "cell_type": "markdown",
   "id": "4cdabcbb-45a7-4e78-96d4-d4571d011433",
   "metadata": {},
   "source": [
    "# Exercise 2: Closing Loops\n",
    "\n",
    "As you've seen so far, loops are powerful tools, but controlling them effectively is crucial to avoid unexpected or endless execution. We'll eventually need our functions to stop running once they finish their job, so gracefully handling their stopping points is incredibly important.\n",
    "\n",
    "In this exercise, you will practice using `break` and `continue` statements to control loop flow and prevent infinite loops in our Python code. \n",
    "\n",
    "Let's go!"
   ]
  },
  {
   "cell_type": "markdown",
   "id": "4a669661-8bae-4b76-b06b-60fd3d8ea02d",
   "metadata": {},
   "source": [
    "### Part 1: Using `break` to Exit a Loop Early\n",
    "Sometimes, we want to stop a loop once a specific condition is met, rather than letting it run to completion. The `break` statement allows us to exit a loop immediately as soon as a certain condition is achieved.\n",
    "\n",
    "In the cell below:\n",
    " - [ ] Create a loop that iterates from 0 to 9\n",
    " - [ ] Use break to exit the loop if the iterator variable reaches 7\n",
    " - [ ] Inside the loop, add a print statement so that each number (hint: the iterator variable) is printed before the loop breaks"
   ]
  },
  {
   "cell_type": "code",
   "execution_count": null,
   "id": "721133b8-24f6-4938-890d-f510b77ccaf4",
   "metadata": {},
   "outputs": [],
   "source": [
    "# Your code here"
   ]
  },
  {
   "cell_type": "markdown",
   "id": "342623c0-aa9d-4f25-b054-7e98581546d2",
   "metadata": {},
   "source": [
    "### Part 2: Using `continue` to Skip Iterations\n",
    "In contrast to the `break` statement, the `continue` statement allows us to skip the rest of the code inside the loop for the current iteration and move directly to the next iteration.\n",
    "\n",
    "Instead of stopping our code from running, this will allow us to skip \"a step\" and then continue moving along the loop's path of execution.\n",
    "\n",
    "By combining `continue` with our modulus operator that we learned about, we can check if a number is odd, or as you'll be doing, checking if the numbers we can skip \"aren't even\" (hint) so we only print even numbers and avoid the odd ones.\n",
    "\n",
    "In the cell below:\n",
    " - [ ] Create a loop that iterates from 0 to 9\n",
    " - [ ] Use continue to skip odd numbers\n",
    " - [ ] Print only even numbers in the loop"
   ]
  },
  {
   "cell_type": "code",
   "execution_count": null,
   "id": "6d781a35-032a-4f5a-a5a5-83a3d59a8603",
   "metadata": {},
   "outputs": [],
   "source": [
    "# Your code here"
   ]
  },
  {
   "cell_type": "markdown",
   "id": "828a9a5c-5e60-4206-a617-5c3b6fdf8ffb",
   "metadata": {},
   "source": [
    "### Part 3: Preventing Infinite Loops with `while`\n",
    "When writing your `while` loops in Python, it’s essential to ensure that the loop’s condition will eventually become `False`. Otherwise, you risk creating an infinite loop that never ends.\n",
    "\n",
    "The reason for this is that loops will run when a condition is `True`, meaning, Python will assume you want to run your code, of course. But to prevent it from running indefinitely, you'll need to tell Python when a certain condition is achieved, meaing there is no reason to continue running the code until it's invoked again.\n",
    "\n",
    "In the cell below:\n",
    " - [ ] Create a variable `count` and set it equal to 0\n",
    " - [ ] Write a `while` loop that runs as long as `count` is less than 20\n",
    " - [ ] Print the value of `count` in each iteration as an f-string like this: `\"Count: {count}\"` where  `{count}` is replaced with the value of the incrementor in your `while` loop\n",
    " - [ ] Ensure the `while` loop increments `count` by 1 to ensure the loop will eventually stop"
   ]
  },
  {
   "cell_type": "code",
   "execution_count": null,
   "id": "f1d19441-139d-4091-846a-b350c095280b",
   "metadata": {},
   "outputs": [],
   "source": [
    "# Your code here\n",
    "\n",
    "# Declare variable\n",
    "\n",
    "# Write while loop"
   ]
  },
  {
   "cell_type": "markdown",
   "id": "2d5d545d-1a62-4bea-8b79-446097a95f78",
   "metadata": {},
   "source": [
    "### Part 4: Practical Use of break and continue\n",
    "Now that we're more familar with `break` and `continue`, let's use these these keywords in a real-world nested loops can help control complex loop structures. Here’s an example of how to search for a specific item in a list and stop once it’s found.\n",
    "\n",
    "In the cell below:\n",
    " - [ ] Create a variable called `fruits` and set that equal to a list of these 4 fruits (each item as a string): \"apple\", \"banana\", \"cherry\", \"grapefruit\"\n",
    " - [ ] Write a for loop to iterate over the list of fruits\n",
    " - [ ] Use break to stop the loop if the current fruit is \"cherry\"\n",
    " - [ ] Inside of the break statement, the loop should print `\"{fruit_that_was_found} found! Stopping the loop.\"` where `fruit_that_was_found` is the item that an if statement checks that fruit name against the list of all fruits\n",
    " - [ ] Print each fruit name until the loop breaks."
   ]
  },
  {
   "cell_type": "code",
   "execution_count": null,
   "id": "10cdcebe-123f-471b-b37e-75fdac47fc3f",
   "metadata": {},
   "outputs": [],
   "source": [
    "# Your code here\n",
    "\n",
    "# Create list of fruits\n",
    "\n",
    "# Write for loop\n"
   ]
  }
 ],
 "metadata": {
  "kernelspec": {
   "display_name": "default:Python",
   "language": "python",
   "name": "conda-env-default-py"
  },
  "language_info": {
   "codemirror_mode": {
    "name": "ipython",
    "version": 3
   },
   "file_extension": ".py",
   "mimetype": "text/x-python",
   "name": "python",
   "nbconvert_exporter": "python",
   "pygments_lexer": "ipython3",
   "version": "3.9.19"
  }
 },
 "nbformat": 4,
 "nbformat_minor": 5
}
