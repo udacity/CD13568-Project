{
 "cells": [
  {
   "cell_type": "markdown",
   "id": "4cdabcbb-45a7-4e78-96d4-d4571d011433",
   "metadata": {},
   "source": [
    "# Exercise 1: Loops\n",
    "\n",
    "In this exercise, you'll practice writing loops in Python with various scenarios, focusing on the `range()` function, controlling loop flow with `else`, and using `break` and `continue`.\n",
    "\n",
    "Loops are an essential part of programming and you'll see how writing loops save us so much time from numerous processes where we would have to do them by hand. When you think of loops in Python, think of efficiency, automation, and speed.\n",
    "\n",
    "Let's dive into the code!"
   ]
  },
  {
   "cell_type": "markdown",
   "id": "4a669661-8bae-4b76-b06b-60fd3d8ea02d",
   "metadata": {},
   "source": [
    "### Part 1: Basic Use of `range()`\n",
    "The range() function in Python generates a sequence of numbers, which is very useful when working with loops. \n",
    "\n",
    "It simplifies the process of iterating over a sequence, such as printing a range of numbers or running a loop for a set number of times.\n",
    "\n",
    "In the cell below:\n",
    " - [ ] Write a `for` loop for `number` that uses the `range()` function to print numbers from 0 to 4\n",
    " - [ ] Write a `for` loop for `i` that uses the `range()` function to print \"Iteration: i\" over 10 iterations as an f-string with `i` being passed in dynamically for each iteration\n",
    "     - An f-string is way to write a string with data in it dynamically. An example of what this could look like is: `f\"The file to use is: {file_name}\"` and the `{file_name}` is how we pass in the value of another variable into the entire string. If `file_name = \"report.pdf\"`, then the string would read: `\"The file to use is: report.pdf\""
   ]
  },
  {
   "cell_type": "code",
   "execution_count": null,
   "id": "721133b8-24f6-4938-890d-f510b77ccaf4",
   "metadata": {},
   "outputs": [],
   "source": [
    "# Your code here\n",
    "\n",
    "# Part 1 - Print numbers 0-4\n",
    "\n",
    "# Part 2 - Iterations 0-10 with f-string of `Iteration i`"
   ]
  },
  {
   "cell_type": "markdown",
   "id": "342623c0-aa9d-4f25-b054-7e98581546d2",
   "metadata": {},
   "source": [
    "### Part 2: Using `range()` with Start, End, and Step Arguments\n",
    "The `range()` function is very versatile and can take optional arguments to specify a start, an end, and a step size (increment) in Python. \n",
    "\n",
    "All of these options allow you to control where your sequence begins, ends, and how much it increments by in each step.\n",
    "\n",
    "In the cell below:\n",
    " - [ ] Write a `for` loop for `i` that uses the `range()` function to print numbers from 2 to 6\n",
    " - [ ] Write a `for` loop for `i` that uses the `range()` function with a step of 2 to print the numbers from 0 to 10"
   ]
  },
  {
   "cell_type": "code",
   "execution_count": null,
   "id": "6d781a35-032a-4f5a-a5a5-83a3d59a8603",
   "metadata": {},
   "outputs": [],
   "source": [
    "# Your code here\n",
    "\n",
    "# Part 1 - Print numbers 2-6\n",
    "\n",
    "# Include this break to separate loops\n",
    "print('---------')\n",
    "    \n",
    "# Part 2 - Iterations 0-10 with with stepper of 2"
   ]
  },
  {
   "cell_type": "markdown",
   "id": "828a9a5c-5e60-4206-a617-5c3b6fdf8ffb",
   "metadata": {},
   "source": [
    "### Part 3: Using `else` with Loops\n",
    "Python loops can include an `else` clause, which executes when the loop completes all iterations without encountering a break. \n",
    "\n",
    "This nifty `else` clause can be very useful for confirming that a loop ran successfully or for running final code after a loop has processed all items, such as all the iterations defined by the `range()` as you'll practice in a moment.\n",
    "\n",
    "In the cell below:\n",
    " - [ ] Write a `for` loop for `i` that iterates over `range(5)` and prints each iteration `i`\n",
    " - [ ] Add an else clause that prints `\"Loop just finished!\"` once the loop completes"
   ]
  },
  {
   "cell_type": "code",
   "execution_count": null,
   "id": "f1d19441-139d-4091-846a-b350c095280b",
   "metadata": {},
   "outputs": [],
   "source": [
    "# Your code here"
   ]
  },
  {
   "cell_type": "markdown",
   "id": "2d5d545d-1a62-4bea-8b79-446097a95f78",
   "metadata": {},
   "source": [
    "### Part 4: Using `break` and `continue` in Loops\n",
    "In Python, `break` and `continue` are powerful statements for controlling loop execution.\n",
    " - `break` ends the loop early once a certain condition is met (i.e. a condition is `True`)\n",
    " - `continue` skips the rest of the current loop iteration and moves to the next one\n",
    "\n",
    "In the cell below:\n",
    " - [ ] Write a `for` loop for `i` with `range(10)`\n",
    "     - [ ] Add a condition to `break` the loop when `i == 5`\n",
    "     - [ ] Print each number before the loop breaks\n",
    " - [ ] Create another `for` loop for `i` with `range(10)`\n",
    "     - [ ] Use continue to skip `i == 5` instread of breaking at `i == 5` like before"
   ]
  },
  {
   "cell_type": "code",
   "execution_count": null,
   "id": "10cdcebe-123f-471b-b37e-75fdac47fc3f",
   "metadata": {},
   "outputs": [],
   "source": [
    "# Your code here\n",
    "\n",
    "# for loop using break\n",
    "print(\"Loop with break:\") # Keep this line\n",
    "\n",
    "\n",
    "# for loop using continue\n",
    "print(\"Loop with continue:\") # Keep this line\n"
   ]
  }
 ],
 "metadata": {
  "kernelspec": {
   "display_name": "default:Python",
   "language": "python",
   "name": "conda-env-default-py"
  },
  "language_info": {
   "codemirror_mode": {
    "name": "ipython",
    "version": 3
   },
   "file_extension": ".py",
   "mimetype": "text/x-python",
   "name": "python",
   "nbconvert_exporter": "python",
   "pygments_lexer": "ipython3",
   "version": "3.9.19"
  }
 },
 "nbformat": 4,
 "nbformat_minor": 5
}
